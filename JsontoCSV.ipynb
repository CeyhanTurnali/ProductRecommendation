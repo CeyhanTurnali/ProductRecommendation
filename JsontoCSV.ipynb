{
 "cells": [
  {
   "cell_type": "markdown",
   "metadata": {},
   "source": [
    "# Data Transformation"
   ]
  },
  {
   "cell_type": "markdown",
   "metadata": {},
   "source": [
    "First of all I would like to prefer work on .csv file with pandas. As completed below, .json files were converted to csv files."
   ]
  },
  {
   "cell_type": "code",
   "execution_count": 22,
   "metadata": {},
   "outputs": [],
   "source": [
    "import json\n",
    "import csv\n",
    "import pandas as pd\n",
    "\n",
    "with open('meta.json') as json_file:\n",
    "    meta=json.load(json_file)\n",
    "    \n",
    "meta_data=meta['meta']\n",
    "\n",
    "data_file=open('meta.csv','w')\n",
    "csv_writer=csv.writer(data_file)\n",
    "\n",
    "count=0\n",
    "for meta in meta_data:\n",
    "    if count==0:\n",
    "        header=meta.keys()\n",
    "        csv_writer.writerow(header)\n",
    "        count+=1\n",
    "    csv_writer.writerow(meta.values())\n",
    "data_file.close()"
   ]
  },
  {
   "cell_type": "code",
   "execution_count": 23,
   "metadata": {},
   "outputs": [
    {
     "data": {
      "text/html": [
       "<div>\n",
       "<style scoped>\n",
       "    .dataframe tbody tr th:only-of-type {\n",
       "        vertical-align: middle;\n",
       "    }\n",
       "\n",
       "    .dataframe tbody tr th {\n",
       "        vertical-align: top;\n",
       "    }\n",
       "\n",
       "    .dataframe thead th {\n",
       "        text-align: right;\n",
       "    }\n",
       "</style>\n",
       "<table border=\"1\" class=\"dataframe\">\n",
       "  <thead>\n",
       "    <tr style=\"text-align: right;\">\n",
       "      <th></th>\n",
       "      <th>productid</th>\n",
       "      <th>brand</th>\n",
       "      <th>category</th>\n",
       "      <th>subcategory</th>\n",
       "      <th>name</th>\n",
       "    </tr>\n",
       "  </thead>\n",
       "  <tbody>\n",
       "    <tr>\n",
       "      <th>0</th>\n",
       "      <td>HBV00000AX6LR</td>\n",
       "      <td>Palette</td>\n",
       "      <td>Kişisel Bakım</td>\n",
       "      <td>Saç Bakımı</td>\n",
       "      <td>Palette Kalıcı Doğal Renkler 10-4 PAPATYA</td>\n",
       "    </tr>\n",
       "    <tr>\n",
       "      <th>1</th>\n",
       "      <td>HBV00000BSAQG</td>\n",
       "      <td>Best</td>\n",
       "      <td>Pet Shop</td>\n",
       "      <td>Kedi</td>\n",
       "      <td>Best Pet Jöle İçinde Parça Etli Somonlu Konser...</td>\n",
       "    </tr>\n",
       "  </tbody>\n",
       "</table>\n",
       "</div>"
      ],
      "text/plain": [
       "       productid    brand       category subcategory  \\\n",
       "0  HBV00000AX6LR  Palette  Kişisel Bakım  Saç Bakımı   \n",
       "1  HBV00000BSAQG     Best       Pet Shop        Kedi   \n",
       "\n",
       "                                                name  \n",
       "0          Palette Kalıcı Doğal Renkler 10-4 PAPATYA  \n",
       "1  Best Pet Jöle İçinde Parça Etli Somonlu Konser...  "
      ]
     },
     "execution_count": 23,
     "metadata": {},
     "output_type": "execute_result"
    }
   ],
   "source": [
    "meta=pd.read_csv('meta.csv')\n",
    "meta.head(2)"
   ]
  },
  {
   "cell_type": "code",
   "execution_count": 24,
   "metadata": {},
   "outputs": [],
   "source": [
    "with open('events.json') as json_file:\n",
    "    events=json.load(json_file)\n",
    "    \n",
    "events_data=events['events']\n",
    "\n",
    "data_file_events=open('events.csv','w')\n",
    "csv_writer_events=csv.writer(data_file_events)\n",
    "\n",
    "count=0\n",
    "for events in events_data:\n",
    "    if count==0:\n",
    "        header=events.keys()\n",
    "        csv_writer_events.writerow(header)\n",
    "        count+=1\n",
    "    csv_writer_events.writerow(events.values())\n",
    "data_file_events.close()"
   ]
  },
  {
   "cell_type": "code",
   "execution_count": 26,
   "metadata": {},
   "outputs": [
    {
     "data": {
      "text/html": [
       "<div>\n",
       "<style scoped>\n",
       "    .dataframe tbody tr th:only-of-type {\n",
       "        vertical-align: middle;\n",
       "    }\n",
       "\n",
       "    .dataframe tbody tr th {\n",
       "        vertical-align: top;\n",
       "    }\n",
       "\n",
       "    .dataframe thead th {\n",
       "        text-align: right;\n",
       "    }\n",
       "</style>\n",
       "<table border=\"1\" class=\"dataframe\">\n",
       "  <thead>\n",
       "    <tr style=\"text-align: right;\">\n",
       "      <th></th>\n",
       "      <th>event</th>\n",
       "      <th>sessionid</th>\n",
       "      <th>eventtime</th>\n",
       "      <th>price</th>\n",
       "      <th>productid</th>\n",
       "    </tr>\n",
       "  </thead>\n",
       "  <tbody>\n",
       "    <tr>\n",
       "      <th>0</th>\n",
       "      <td>cart</td>\n",
       "      <td>a0655eee-1267-4820-af21-ad8ac068ff7a</td>\n",
       "      <td>2020-06-01T08:59:16.406Z</td>\n",
       "      <td>14.48</td>\n",
       "      <td>HBV00000NVZE8</td>\n",
       "    </tr>\n",
       "    <tr>\n",
       "      <th>1</th>\n",
       "      <td>cart</td>\n",
       "      <td>d2ea7bd3-9235-4a9f-a9ea-d7f296e71318</td>\n",
       "      <td>2020-06-01T08:59:46.580Z</td>\n",
       "      <td>49.90</td>\n",
       "      <td>HBV00000U2B18</td>\n",
       "    </tr>\n",
       "  </tbody>\n",
       "</table>\n",
       "</div>"
      ],
      "text/plain": [
       "  event                             sessionid                 eventtime  \\\n",
       "0  cart  a0655eee-1267-4820-af21-ad8ac068ff7a  2020-06-01T08:59:16.406Z   \n",
       "1  cart  d2ea7bd3-9235-4a9f-a9ea-d7f296e71318  2020-06-01T08:59:46.580Z   \n",
       "\n",
       "   price      productid  \n",
       "0  14.48  HBV00000NVZE8  \n",
       "1  49.90  HBV00000U2B18  "
      ]
     },
     "execution_count": 26,
     "metadata": {},
     "output_type": "execute_result"
    }
   ],
   "source": [
    "events=pd.read_csv('events.csv')\n",
    "events.head(2)"
   ]
  }
 ],
 "metadata": {
  "kernelspec": {
   "display_name": "Python 3",
   "language": "python",
   "name": "python3"
  },
  "language_info": {
   "codemirror_mode": {
    "name": "ipython",
    "version": 3
   },
   "file_extension": ".py",
   "mimetype": "text/x-python",
   "name": "python",
   "nbconvert_exporter": "python",
   "pygments_lexer": "ipython3",
   "version": "3.8.5"
  }
 },
 "nbformat": 4,
 "nbformat_minor": 5
}
